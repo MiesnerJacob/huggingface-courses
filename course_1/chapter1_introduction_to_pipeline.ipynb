{
  "nbformat": 4,
  "nbformat_minor": 0,
  "metadata": {
    "colab": {
      "name": "Transformers, what can they do?",
      "provenance": []
    },
    "language_info": {
      "name": "python"
    },
    "kernelspec": {
      "name": "python3",
      "display_name": "Python 3"
    }
  },
  "cells": [
    {
      "cell_type": "markdown",
      "metadata": {
        "id": "GhcqZ8QdR_9d"
      },
      "source": [
        "# Transformers, what can they do?"
      ]
    },
    {
      "cell_type": "markdown",
      "metadata": {
        "id": "vu9b9jbcaqZs"
      },
      "source": [
        "This notebook contains some examples of the different tasks that can be done through the Huggingface \"pipeline\" library!"
      ]
    },
    {
      "cell_type": "markdown",
      "metadata": {
        "id": "V6t2Bz2-R_9f"
      },
      "source": [
        "Install the Transformers and Datasets libraries to run this notebook."
      ]
    },
    {
      "cell_type": "code",
      "metadata": {
        "id": "EYR-569qR_9f",
        "outputId": "543f3aa4-005d-4261-d2f3-5a115dcfb6bf",
        "colab": {
          "base_uri": "https://localhost:8080/"
        }
      },
      "source": [
        "! pip install datasets transformers[sentencepiece]"
      ],
      "execution_count": 60,
      "outputs": [
        {
          "output_type": "stream",
          "text": [
            "Requirement already satisfied: datasets in /usr/local/lib/python3.7/dist-packages (1.10.2)\n",
            "Requirement already satisfied: transformers[sentencepiece] in /usr/local/lib/python3.7/dist-packages (4.9.0)\n",
            "Requirement already satisfied: dill in /usr/local/lib/python3.7/dist-packages (from datasets) (0.3.4)\n",
            "Requirement already satisfied: tqdm>=4.42 in /usr/local/lib/python3.7/dist-packages (from datasets) (4.61.2)\n",
            "Requirement already satisfied: fsspec>=2021.05.0 in /usr/local/lib/python3.7/dist-packages (from datasets) (2021.7.0)\n",
            "Requirement already satisfied: pyarrow!=4.0.0,>=1.0.0 in /usr/local/lib/python3.7/dist-packages (from datasets) (3.0.0)\n",
            "Requirement already satisfied: pandas in /usr/local/lib/python3.7/dist-packages (from datasets) (1.1.5)\n",
            "Requirement already satisfied: packaging in /usr/local/lib/python3.7/dist-packages (from datasets) (21.0)\n",
            "Requirement already satisfied: xxhash in /usr/local/lib/python3.7/dist-packages (from datasets) (2.0.2)\n",
            "Requirement already satisfied: requests>=2.19.0 in /usr/local/lib/python3.7/dist-packages (from datasets) (2.23.0)\n",
            "Requirement already satisfied: huggingface-hub<0.1.0 in /usr/local/lib/python3.7/dist-packages (from datasets) (0.0.12)\n",
            "Requirement already satisfied: numpy>=1.17 in /usr/local/lib/python3.7/dist-packages (from datasets) (1.19.5)\n",
            "Requirement already satisfied: importlib-metadata in /usr/local/lib/python3.7/dist-packages (from datasets) (4.6.1)\n",
            "Requirement already satisfied: multiprocess in /usr/local/lib/python3.7/dist-packages (from datasets) (0.70.12.2)\n",
            "Requirement already satisfied: filelock in /usr/local/lib/python3.7/dist-packages (from huggingface-hub<0.1.0->datasets) (3.0.12)\n",
            "Requirement already satisfied: typing-extensions in /usr/local/lib/python3.7/dist-packages (from huggingface-hub<0.1.0->datasets) (3.7.4.3)\n",
            "Requirement already satisfied: pyparsing>=2.0.2 in /usr/local/lib/python3.7/dist-packages (from packaging->datasets) (2.4.7)\n",
            "Requirement already satisfied: urllib3!=1.25.0,!=1.25.1,<1.26,>=1.21.1 in /usr/local/lib/python3.7/dist-packages (from requests>=2.19.0->datasets) (1.24.3)\n",
            "Requirement already satisfied: certifi>=2017.4.17 in /usr/local/lib/python3.7/dist-packages (from requests>=2.19.0->datasets) (2021.5.30)\n",
            "Requirement already satisfied: idna<3,>=2.5 in /usr/local/lib/python3.7/dist-packages (from requests>=2.19.0->datasets) (2.10)\n",
            "Requirement already satisfied: chardet<4,>=3.0.2 in /usr/local/lib/python3.7/dist-packages (from requests>=2.19.0->datasets) (3.0.4)\n",
            "Requirement already satisfied: zipp>=0.5 in /usr/local/lib/python3.7/dist-packages (from importlib-metadata->datasets) (3.5.0)\n",
            "Requirement already satisfied: python-dateutil>=2.7.3 in /usr/local/lib/python3.7/dist-packages (from pandas->datasets) (2.8.1)\n",
            "Requirement already satisfied: pytz>=2017.2 in /usr/local/lib/python3.7/dist-packages (from pandas->datasets) (2018.9)\n",
            "Requirement already satisfied: six>=1.5 in /usr/local/lib/python3.7/dist-packages (from python-dateutil>=2.7.3->pandas->datasets) (1.15.0)\n",
            "Requirement already satisfied: sacremoses in /usr/local/lib/python3.7/dist-packages (from transformers[sentencepiece]) (0.0.45)\n",
            "Requirement already satisfied: regex!=2019.12.17 in /usr/local/lib/python3.7/dist-packages (from transformers[sentencepiece]) (2019.12.20)\n",
            "Requirement already satisfied: tokenizers<0.11,>=0.10.1 in /usr/local/lib/python3.7/dist-packages (from transformers[sentencepiece]) (0.10.3)\n",
            "Requirement already satisfied: pyyaml>=5.1 in /usr/local/lib/python3.7/dist-packages (from transformers[sentencepiece]) (5.4.1)\n",
            "Requirement already satisfied: protobuf in /usr/local/lib/python3.7/dist-packages (from transformers[sentencepiece]) (3.17.3)\n",
            "Requirement already satisfied: sentencepiece==0.1.91 in /usr/local/lib/python3.7/dist-packages (from transformers[sentencepiece]) (0.1.91)\n",
            "Requirement already satisfied: joblib in /usr/local/lib/python3.7/dist-packages (from sacremoses->transformers[sentencepiece]) (1.0.1)\n",
            "Requirement already satisfied: click in /usr/local/lib/python3.7/dist-packages (from sacremoses->transformers[sentencepiece]) (7.1.2)\n"
          ],
          "name": "stdout"
        }
      ]
    },
    {
      "cell_type": "code",
      "metadata": {
        "id": "tHAnAvXbZuuQ"
      },
      "source": [
        "# Sentiment Analysis"
      ],
      "execution_count": 61,
      "outputs": []
    },
    {
      "cell_type": "code",
      "metadata": {
        "id": "0muVz4MiR_9f",
        "outputId": "99843e8c-190c-456b-9e1f-d8412e2bdafb",
        "colab": {
          "base_uri": "https://localhost:8080/"
        }
      },
      "source": [
        "from transformers import pipeline\n",
        "\n",
        "classifier = pipeline(\"sentiment-analysis\")\n",
        "classifier(\"I've been waiting for a HuggingFace course my whole life.\")"
      ],
      "execution_count": 62,
      "outputs": [
        {
          "output_type": "execute_result",
          "data": {
            "text/plain": [
              "[{'label': 'POSITIVE', 'score': 0.9598047137260437}]"
            ]
          },
          "metadata": {
            "tags": []
          },
          "execution_count": 62
        }
      ]
    },
    {
      "cell_type": "code",
      "metadata": {
        "id": "unBRNvyFR_9g",
        "outputId": "bd0d289a-b25e-42f8-d32b-30d1f1d33f44",
        "colab": {
          "base_uri": "https://localhost:8080/"
        }
      },
      "source": [
        "classifier([\n",
        "    \"I've been waiting for a HuggingFace course my whole life.\", \n",
        "    \"I hate this so much!\",\n",
        "    \"I am indifferent about starting these new Huggingface courses.\",\n",
        "    \"I am so glad that Huggingface has launched these new educational courses.\"\n",
        "])"
      ],
      "execution_count": 63,
      "outputs": [
        {
          "output_type": "execute_result",
          "data": {
            "text/plain": [
              "[{'label': 'POSITIVE', 'score': 0.9598047137260437},\n",
              " {'label': 'NEGATIVE', 'score': 0.9994558095932007},\n",
              " {'label': 'NEGATIVE', 'score': 0.999576210975647},\n",
              " {'label': 'POSITIVE', 'score': 0.9977303147315979}]"
            ]
          },
          "metadata": {
            "tags": []
          },
          "execution_count": 63
        }
      ]
    },
    {
      "cell_type": "code",
      "metadata": {
        "id": "mkLeiI90Z13m"
      },
      "source": [
        "# Zero-Shot Text Sequence Classification"
      ],
      "execution_count": 64,
      "outputs": []
    },
    {
      "cell_type": "code",
      "metadata": {
        "id": "FQF337cjR_9h",
        "outputId": "bf559d0a-42eb-40ca-8bc7-77a076d70a79",
        "colab": {
          "base_uri": "https://localhost:8080/"
        }
      },
      "source": [
        "from transformers import pipeline\n",
        "\n",
        "classifier = pipeline(\"zero-shot-classification\")\n",
        "classifier(\n",
        "    \"This is a course about the Transformers library\",\n",
        "    candidate_labels=[\"education\", \"politics\", \"business\",\"machine learning\",\"artificial intelligence\"]\n",
        ")"
      ],
      "execution_count": 65,
      "outputs": [
        {
          "output_type": "execute_result",
          "data": {
            "text/plain": [
              "{'labels': ['education',\n",
              "  'artificial intelligence',\n",
              "  'business',\n",
              "  'machine learning',\n",
              "  'politics'],\n",
              " 'scores': [0.6956349611282349,\n",
              "  0.10013897716999054,\n",
              "  0.09222657978534698,\n",
              "  0.07623127847909927,\n",
              "  0.03576822578907013],\n",
              " 'sequence': 'This is a course about the Transformers library'}"
            ]
          },
          "metadata": {
            "tags": []
          },
          "execution_count": 65
        }
      ]
    },
    {
      "cell_type": "code",
      "metadata": {
        "id": "A2la1IClZ8qf"
      },
      "source": [
        "# Text Generation"
      ],
      "execution_count": 66,
      "outputs": []
    },
    {
      "cell_type": "code",
      "metadata": {
        "id": "NVd9_eSzR_9h",
        "outputId": "eabc0c49-707e-4ab6-d200-2c914ea048ca",
        "colab": {
          "base_uri": "https://localhost:8080/"
        }
      },
      "source": [
        "from transformers import pipeline\n",
        "\n",
        "generator = pipeline(\"text-generation\")\n",
        "generator(\"In this course, we will teach you how to\")"
      ],
      "execution_count": 67,
      "outputs": [
        {
          "output_type": "stream",
          "text": [
            "Setting `pad_token_id` to `eos_token_id`:50256 for open-end generation.\n"
          ],
          "name": "stderr"
        },
        {
          "output_type": "execute_result",
          "data": {
            "text/plain": [
              "[{'generated_text': \"In this course, we will teach you how to use Microsoft's online security service to build your own self-protecting, self-rewarding, self-reliant and resilient applications. You will also understand what it takes to survive; learn\"}]"
            ]
          },
          "metadata": {
            "tags": []
          },
          "execution_count": 67
        }
      ]
    },
    {
      "cell_type": "code",
      "metadata": {
        "id": "hNZ_sTQaR_9h",
        "outputId": "2b40f896-2ff8-4477-d0dc-2ccaa5882f5a",
        "colab": {
          "base_uri": "https://localhost:8080/"
        }
      },
      "source": [
        "from transformers import pipeline\n",
        "\n",
        "generator = pipeline(\"text-generation\", model=\"distilgpt2\")\n",
        "generator(\n",
        "    \"In this course, we will teach you how to\",\n",
        "    max_length=15,\n",
        "    num_return_sequences=2,\n",
        ")"
      ],
      "execution_count": 68,
      "outputs": [
        {
          "output_type": "stream",
          "text": [
            "Setting `pad_token_id` to `eos_token_id`:50256 for open-end generation.\n"
          ],
          "name": "stderr"
        },
        {
          "output_type": "execute_result",
          "data": {
            "text/plain": [
              "[{'generated_text': 'In this course, we will teach you how to use a standard, open'},\n",
              " {'generated_text': 'In this course, we will teach you how to use common techniques without using'}]"
            ]
          },
          "metadata": {
            "tags": []
          },
          "execution_count": 68
        }
      ]
    },
    {
      "cell_type": "code",
      "metadata": {
        "id": "2vljErKxZ_nz"
      },
      "source": [
        "# Fill-Mask"
      ],
      "execution_count": 69,
      "outputs": []
    },
    {
      "cell_type": "code",
      "metadata": {
        "id": "lyt75v6-R_9i",
        "outputId": "7414743a-c5da-4c43-c4cd-429527aa4fa4",
        "colab": {
          "base_uri": "https://localhost:8080/"
        }
      },
      "source": [
        "from transformers import pipeline\n",
        "\n",
        "unmasker = pipeline(\"fill-mask\", model=\"bert-base-cased\")\n",
        "unmasker(\"This course will teach you all about [MASK] models.\", top_k=4)"
      ],
      "execution_count": 70,
      "outputs": [
        {
          "output_type": "stream",
          "text": [
            "Some weights of the model checkpoint at bert-base-cased were not used when initializing BertForMaskedLM: ['cls.seq_relationship.weight', 'cls.seq_relationship.bias']\n",
            "- This IS expected if you are initializing BertForMaskedLM from the checkpoint of a model trained on another task or with another architecture (e.g. initializing a BertForSequenceClassification model from a BertForPreTraining model).\n",
            "- This IS NOT expected if you are initializing BertForMaskedLM from the checkpoint of a model that you expect to be exactly identical (initializing a BertForSequenceClassification model from a BertForSequenceClassification model).\n"
          ],
          "name": "stderr"
        },
        {
          "output_type": "execute_result",
          "data": {
            "text/plain": [
              "[{'score': 0.25963109731674194,\n",
              "  'sequence': 'This course will teach you all about role models.',\n",
              "  'token': 1648,\n",
              "  'token_str': 'role'},\n",
              " {'score': 0.09427270293235779,\n",
              "  'sequence': 'This course will teach you all about the models.',\n",
              "  'token': 1103,\n",
              "  'token_str': 'the'},\n",
              " {'score': 0.033867526799440384,\n",
              "  'sequence': 'This course will teach you all about fashion models.',\n",
              "  'token': 4633,\n",
              "  'token_str': 'fashion'},\n",
              " {'score': 0.025944111868739128,\n",
              "  'sequence': 'This course will teach you all about life models.',\n",
              "  'token': 1297,\n",
              "  'token_str': 'life'}]"
            ]
          },
          "metadata": {
            "tags": []
          },
          "execution_count": 70
        }
      ]
    },
    {
      "cell_type": "code",
      "metadata": {
        "id": "eoWJ1ATCaBhw"
      },
      "source": [
        "# Named Entity Recognition"
      ],
      "execution_count": 71,
      "outputs": []
    },
    {
      "cell_type": "code",
      "metadata": {
        "id": "4uqElJ6dR_9i",
        "outputId": "bfb10773-17ce-40ec-94ec-e36bcf456b0f",
        "colab": {
          "base_uri": "https://localhost:8080/"
        }
      },
      "source": [
        "from transformers import pipeline\n",
        "\n",
        "ner = pipeline(\"ner\", grouped_entities=True)\n",
        "ner(\"My name is Jacob and I work at Sightly who uses Huggingface Transformers to develop machine learning workflows.\")"
      ],
      "execution_count": 72,
      "outputs": [
        {
          "output_type": "stream",
          "text": [
            "/usr/local/lib/python3.7/dist-packages/transformers/pipelines/token_classification.py:155: UserWarning: `grouped_entities` is deprecated and will be removed in version v5.0.0, defaulted to `aggregation_strategy=\"AggregationStrategy.SIMPLE\"` instead.\n",
            "  f'`grouped_entities` is deprecated and will be removed in version v5.0.0, defaulted to `aggregation_strategy=\"{aggregation_strategy}\"` instead.'\n"
          ],
          "name": "stderr"
        },
        {
          "output_type": "execute_result",
          "data": {
            "text/plain": [
              "[{'end': 16,\n",
              "  'entity_group': 'PER',\n",
              "  'score': 0.9992159,\n",
              "  'start': 11,\n",
              "  'word': 'Jacob'},\n",
              " {'end': 38,\n",
              "  'entity_group': 'ORG',\n",
              "  'score': 0.98637885,\n",
              "  'start': 31,\n",
              "  'word': 'Sightly'},\n",
              " {'end': 72,\n",
              "  'entity_group': 'ORG',\n",
              "  'score': 0.95767474,\n",
              "  'start': 48,\n",
              "  'word': 'Huggingface Transformers'}]"
            ]
          },
          "metadata": {
            "tags": []
          },
          "execution_count": 72
        }
      ]
    },
    {
      "cell_type": "code",
      "metadata": {
        "id": "cQHI1r4haEco"
      },
      "source": [
        "# Part of Speech Tagging"
      ],
      "execution_count": 73,
      "outputs": []
    },
    {
      "cell_type": "code",
      "metadata": {
        "id": "_po8VDjIWqag",
        "outputId": "faa0095d-d1f2-464b-85d9-e93e0f89acc5",
        "colab": {
          "base_uri": "https://localhost:8080/"
        }
      },
      "source": [
        "from transformers import pipeline\n",
        "generator = pipeline('ner',\n",
        "                     model='mrm8488/mobilebert-finetuned-pos',\n",
        "                     tokenizer='mrm8488/mobilebert-finetuned-pos',\n",
        "                     grouped_entities=True)\n",
        "generator(\"My name is Jacob and I work at Sightly who uses Huggingface Transformers to develop machine learning workflows.\")"
      ],
      "execution_count": 74,
      "outputs": [
        {
          "output_type": "stream",
          "text": [
            "/usr/local/lib/python3.7/dist-packages/transformers/pipelines/token_classification.py:155: UserWarning: `grouped_entities` is deprecated and will be removed in version v5.0.0, defaulted to `aggregation_strategy=\"AggregationStrategy.SIMPLE\"` instead.\n",
            "  f'`grouped_entities` is deprecated and will be removed in version v5.0.0, defaulted to `aggregation_strategy=\"{aggregation_strategy}\"` instead.'\n",
            "Asking to truncate to max_length but no maximum length is provided and the model has no predefined maximum length. Default to no truncation.\n",
            "/usr/local/lib/python3.7/dist-packages/transformers/pipelines/token_classification.py:236: RuntimeWarning: overflow encountered in exp\n",
            "  scores = np.exp(entities) / np.exp(entities).sum(-1, keepdims=True)\n",
            "/usr/local/lib/python3.7/dist-packages/transformers/pipelines/token_classification.py:236: RuntimeWarning: invalid value encountered in true_divide\n",
            "  scores = np.exp(entities) / np.exp(entities).sum(-1, keepdims=True)\n",
            "/usr/local/lib/python3.7/dist-packages/transformers/pipelines/token_classification.py:381: RuntimeWarning: Mean of empty slice\n",
            "  scores = np.nanmean([entity[\"score\"] for entity in entities])\n"
          ],
          "name": "stderr"
        },
        {
          "output_type": "execute_result",
          "data": {
            "text/plain": [
              "[{'end': 2,\n",
              "  'entity_group': 'PRP',\n",
              "  'score': 0.8868122,\n",
              "  'start': 0,\n",
              "  'word': 'my'},\n",
              " {'end': 7,\n",
              "  'entity_group': 'NN',\n",
              "  'score': 0.98060846,\n",
              "  'start': 3,\n",
              "  'word': 'name'},\n",
              " {'end': 10,\n",
              "  'entity_group': 'VBZ',\n",
              "  'score': 0.99738294,\n",
              "  'start': 8,\n",
              "  'word': 'is'},\n",
              " {'end': 16,\n",
              "  'entity_group': 'NNP',\n",
              "  'score': 0.98590136,\n",
              "  'start': 11,\n",
              "  'word': 'jacob'},\n",
              " {'end': 20,\n",
              "  'entity_group': 'CC',\n",
              "  'score': 0.99994904,\n",
              "  'start': 17,\n",
              "  'word': 'and'},\n",
              " {'end': 22,\n",
              "  'entity_group': 'PRP',\n",
              "  'score': 0.7972169,\n",
              "  'start': 21,\n",
              "  'word': 'i'},\n",
              " {'end': 27,\n",
              "  'entity_group': 'VBP',\n",
              "  'score': 0.58215654,\n",
              "  'start': 23,\n",
              "  'word': 'work'},\n",
              " {'end': 30,\n",
              "  'entity_group': 'IN',\n",
              "  'score': 0.98807603,\n",
              "  'start': 28,\n",
              "  'word': 'at'},\n",
              " {'end': 36,\n",
              "  'entity_group': 'JJ',\n",
              "  'score': 0.85107315,\n",
              "  'start': 31,\n",
              "  'word': 'sight'},\n",
              " {'end': 38,\n",
              "  'entity_group': 'NNP',\n",
              "  'score': 0.3509983,\n",
              "  'start': 36,\n",
              "  'word': '##ly'},\n",
              " {'end': 42,\n",
              "  'entity_group': 'WP',\n",
              "  'score': 0.9984299,\n",
              "  'start': 39,\n",
              "  'word': 'who'},\n",
              " {'end': 47,\n",
              "  'entity_group': 'VBZ',\n",
              "  'score': 0.9699005,\n",
              "  'start': 43,\n",
              "  'word': 'uses'},\n",
              " {'end': 55,\n",
              "  'entity_group': 'VBG',\n",
              "  'score': 0.4773911,\n",
              "  'start': 48,\n",
              "  'word': 'hugging'},\n",
              " {'end': 59,\n",
              "  'entity_group': 'NNP',\n",
              "  'score': 0.6911461,\n",
              "  'start': 55,\n",
              "  'word': '##face'},\n",
              " {'end': 72,\n",
              "  'entity_group': 'NNS',\n",
              "  'score': 0.7994616,\n",
              "  'start': 60,\n",
              "  'word': 'transformers'},\n",
              " {'end': 75,\n",
              "  'entity_group': 'TO',\n",
              "  'score': 0.99973315,\n",
              "  'start': 73,\n",
              "  'word': 'to'},\n",
              " {'end': 83,\n",
              "  'entity_group': 'VB',\n",
              "  'score': 0.97529274,\n",
              "  'start': 76,\n",
              "  'word': 'develop'},\n",
              " {'end': 91,\n",
              "  'entity_group': 'NN',\n",
              "  'score': 0.9766304,\n",
              "  'start': 84,\n",
              "  'word': 'machine'},\n",
              " {'end': 100,\n",
              "  'entity_group': 'NN',\n",
              "  'score': 0.3882706,\n",
              "  'start': 92,\n",
              "  'word': 'learning'},\n",
              " {'end': 105,\n",
              "  'entity_group': 'NNS',\n",
              "  'score': 0.86675614,\n",
              "  'start': 101,\n",
              "  'word': 'work'},\n",
              " {'end': 109,\n",
              "  'entity_group': 'NNS',\n",
              "  'score': 0.89558953,\n",
              "  'start': 105,\n",
              "  'word': '##flow'},\n",
              " {'end': 110,\n",
              "  'entity_group': 'NNS',\n",
              "  'score': 0.7885999,\n",
              "  'start': 109,\n",
              "  'word': '##s'},\n",
              " {'end': 111, 'entity_group': 'CC', 'score': nan, 'start': 110, 'word': '.'}]"
            ]
          },
          "metadata": {
            "tags": []
          },
          "execution_count": 74
        }
      ]
    },
    {
      "cell_type": "code",
      "metadata": {
        "id": "j3ML5p5baGpj"
      },
      "source": [
        "# Question Answering"
      ],
      "execution_count": 75,
      "outputs": []
    },
    {
      "cell_type": "code",
      "metadata": {
        "id": "DEL_KlMpR_9i",
        "outputId": "a14ce85a-dc14-41c8-8d48-e44022df270e",
        "colab": {
          "base_uri": "https://localhost:8080/"
        }
      },
      "source": [
        "from transformers import pipeline\n",
        "\n",
        "question_answerer = pipeline(\"question-answering\")\n",
        "question_answerer(\n",
        "    question=\"What does Sightly use to develop machine learning workflows?\",\n",
        "    context=\"My name is Jacob and I work at Sightly who uses Huggingface Transformers to develop machine learning workflows.\"\n",
        ")"
      ],
      "execution_count": 76,
      "outputs": [
        {
          "output_type": "execute_result",
          "data": {
            "text/plain": [
              "{'answer': 'Huggingface Transformers',\n",
              " 'end': 72,\n",
              " 'score': 0.9880443215370178,\n",
              " 'start': 48}"
            ]
          },
          "metadata": {
            "tags": []
          },
          "execution_count": 76
        }
      ]
    },
    {
      "cell_type": "code",
      "metadata": {
        "id": "90fbehPNaIxy"
      },
      "source": [
        "# Summarization"
      ],
      "execution_count": 77,
      "outputs": []
    },
    {
      "cell_type": "code",
      "metadata": {
        "id": "QMUdWsA4R_9j",
        "outputId": "16f31716-1598-4bee-edce-cea2d3f2c023",
        "colab": {
          "base_uri": "https://localhost:8080/"
        }
      },
      "source": [
        "from transformers import pipeline\n",
        "\n",
        "summarizer = pipeline(\"summarization\")\n",
        "summarizer(\"\"\"\n",
        "    America has changed dramatically during recent years. Not only has the number of \n",
        "    graduates in traditional engineering disciplines such as mechanical, civil, \n",
        "    electrical, chemical, and aeronautical engineering declined, but in most of \n",
        "    the premier American universities engineering curricula now concentrate on \n",
        "    and encourage largely the study of engineering science. As a result, there \n",
        "    are declining offerings in engineering subjects dealing with infrastructure, \n",
        "    the environment, and related issues, and greater concentration on high \n",
        "    technology subjects, largely supporting increasingly complex scientific \n",
        "    developments. While the latter is important, it should not be at the expense \n",
        "    of more traditional engineering.\n",
        "\n",
        "    Rapidly developing economies such as China and India, as well as other \n",
        "    industrial countries in Europe and Asia, continue to encourage and advance \n",
        "    the teaching of engineering. Both China and India, respectively, graduate \n",
        "    six and eight times as many traditional engineers as does the United States. \n",
        "    Other industrial countries at minimum maintain their output, while America \n",
        "    suffers an increasingly serious decline in the number of engineering graduates \n",
        "    and a lack of well-educated engineers.\n",
        "\"\"\")"
      ],
      "execution_count": 78,
      "outputs": [
        {
          "output_type": "execute_result",
          "data": {
            "text/plain": [
              "[{'summary_text': ' America has changed dramatically during recent years . The number of engineering graduates in the U.S. has declined in traditional engineering disciplines such as mechanical, civil,    electrical, chemical, and aeronautical engineering . Rapidly developing economies such as China and India continue to encourage and advance the teaching of engineering .'}]"
            ]
          },
          "metadata": {
            "tags": []
          },
          "execution_count": 78
        }
      ]
    },
    {
      "cell_type": "code",
      "metadata": {
        "id": "1xD_5cKaaKUQ"
      },
      "source": [
        "# Text Translation"
      ],
      "execution_count": 79,
      "outputs": []
    },
    {
      "cell_type": "code",
      "metadata": {
        "id": "4jWa4fm1R_9j",
        "outputId": "b1fc788f-989c-4b14-f77c-22c859f1d323",
        "colab": {
          "base_uri": "https://localhost:8080/"
        }
      },
      "source": [
        "from transformers import pipeline\n",
        "\n",
        "translator = pipeline(\"translation\", model=\"Helsinki-NLP/opus-mt-en-es\")\n",
        "translator(\"This course was created by the great folks over at Huggingfae in Brooklyn, New York.\")"
      ],
      "execution_count": 80,
      "outputs": [
        {
          "output_type": "execute_result",
          "data": {
            "text/plain": [
              "[{'translation_text': 'Este curso fue creado por la gran gente de Huggingfae en Brooklyn, Nueva York.'}]"
            ]
          },
          "metadata": {
            "tags": []
          },
          "execution_count": 80
        }
      ]
    }
  ]
}